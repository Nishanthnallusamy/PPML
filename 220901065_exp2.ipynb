{
 "cells": [
  {
   "cell_type": "code",
   "execution_count": 1,
   "id": "50bc8f0d",
   "metadata": {},
   "outputs": [
    {
     "name": "stdout",
     "output_type": "stream",
     "text": [
      "Original array:\n",
      " [[  0.    1.   -2.5   3. ]\n",
      " [  4.    5.    6.    7. ]\n",
      " [ 11.7   6.9  65.    8. ]\n",
      " [  9.   10.   11.  108. ]]\n",
      "\n",
      "Every other rows:arr[0:2:4]:\n",
      " [[ 0.   1.  -2.5  3. ]]\n"
     ]
    }
   ],
   "source": [
    "import numpy as np\n",
    "arr = np.array([[0,1,-2.5,3],[4,5,6,7],[11.7,6.9,65,8],[9,10,11,108]])\n",
    "print(\"Original array:\\n\",arr)\n",
    "print(\"\\nEvery other rows:arr[0:2:4]:\\n\",arr[0:2:4])"
   ]
  },
  {
   "cell_type": "code",
   "execution_count": 2,
   "id": "8a898bec",
   "metadata": {},
   "outputs": [
    {
     "name": "stdout",
     "output_type": "stream",
     "text": [
      "\n",
      "Array with first 1 row and 2 columns:arr[:1,:2]:\n",
      " [[0. 1.]]\n"
     ]
    }
   ],
   "source": [
    "temp = arr[:1,:2]\n",
    "print(\"\\nArray with first 1 row and 2 columns:arr[:1,:2]:\\n\",temp)"
   ]
  },
  {
   "cell_type": "code",
   "execution_count": 3,
   "id": "e28b1eba",
   "metadata": {},
   "outputs": [
    {
     "ename": "IndexError",
     "evalue": "index 4 is out of bounds for axis 1 with size 4",
     "output_type": "error",
     "traceback": [
      "\u001b[1;31m---------------------------------------------------------------------------\u001b[0m",
      "\u001b[1;31mIndexError\u001b[0m                                Traceback (most recent call last)",
      "Input \u001b[1;32mIn [3]\u001b[0m, in \u001b[0;36m<cell line: 1>\u001b[1;34m()\u001b[0m\n\u001b[1;32m----> 1\u001b[0m temp \u001b[38;5;241m=\u001b[39m \u001b[43marr\u001b[49m\u001b[43m[\u001b[49m\u001b[43m[\u001b[49m\u001b[38;5;241;43m0\u001b[39;49m\u001b[43m,\u001b[49m\u001b[38;5;241;43m1\u001b[39;49m\u001b[43m,\u001b[49m\u001b[38;5;241;43m2\u001b[39;49m\u001b[43m,\u001b[49m\u001b[38;5;241;43m3\u001b[39;49m\u001b[43m]\u001b[49m\u001b[43m,\u001b[49m\u001b[43m[\u001b[49m\u001b[38;5;241;43m3\u001b[39;49m\u001b[43m,\u001b[49m\u001b[38;5;241;43m2\u001b[39;49m\u001b[43m,\u001b[49m\u001b[38;5;241;43m4\u001b[39;49m\u001b[43m,\u001b[49m\u001b[38;5;241;43m5\u001b[39;49m\u001b[43m]\u001b[49m\u001b[43m]\u001b[49m\n\u001b[0;32m      2\u001b[0m \u001b[38;5;28mprint\u001b[39m(\u001b[38;5;124m\"\u001b[39m\u001b[38;5;130;01m\\n\u001b[39;00m\u001b[38;5;124m Elements at indices (0,3),(1,2),(2,4),(3,5):\u001b[39m\u001b[38;5;130;01m\\n\u001b[39;00m\u001b[38;5;124m\"\u001b[39m,temp)\n",
      "\u001b[1;31mIndexError\u001b[0m: index 4 is out of bounds for axis 1 with size 4"
     ]
    }
   ],
   "source": [
    "temp = arr[[0,1,2,3],[3,2,4,5]]\n",
    "print(\"\\n Elements at indices (0,3),(1,2),(2,4),(3,5):\\n\",temp)"
   ]
  },
  {
   "cell_type": "code",
   "execution_count": 4,
   "id": "c63ae631",
   "metadata": {},
   "outputs": [
    {
     "ename": "IndexError",
     "evalue": "index 4 is out of bounds for axis 1 with size 4",
     "output_type": "error",
     "traceback": [
      "\u001b[1;31m---------------------------------------------------------------------------\u001b[0m",
      "\u001b[1;31mIndexError\u001b[0m                                Traceback (most recent call last)",
      "Input \u001b[1;32mIn [4]\u001b[0m, in \u001b[0;36m<cell line: 1>\u001b[1;34m()\u001b[0m\n\u001b[1;32m----> 1\u001b[0m temp \u001b[38;5;241m=\u001b[39m \u001b[43marr\u001b[49m\u001b[43m[\u001b[49m\u001b[43m[\u001b[49m\u001b[38;5;241;43m0\u001b[39;49m\u001b[43m,\u001b[49m\u001b[38;5;241;43m1\u001b[39;49m\u001b[43m,\u001b[49m\u001b[38;5;241;43m2\u001b[39;49m\u001b[43m,\u001b[49m\u001b[38;5;241;43m3\u001b[39;49m\u001b[43m]\u001b[49m\u001b[43m,\u001b[49m\u001b[43m[\u001b[49m\u001b[38;5;241;43m3\u001b[39;49m\u001b[43m,\u001b[49m\u001b[38;5;241;43m2\u001b[39;49m\u001b[43m,\u001b[49m\u001b[38;5;241;43m4\u001b[39;49m\u001b[43m,\u001b[49m\u001b[38;5;241;43m5\u001b[39;49m\u001b[43m]\u001b[49m\u001b[43m]\u001b[49m\n\u001b[0;32m      2\u001b[0m \u001b[38;5;28mprint\u001b[39m(\u001b[38;5;124m\"\u001b[39m\u001b[38;5;130;01m\\n\u001b[39;00m\u001b[38;5;124m Elements at indices (0,3),(1,2),(2,4),\u001b[39m\u001b[38;5;124m\"\u001b[39m\u001b[38;5;124m\"\u001b[39m\u001b[38;5;124m(3,5):\u001b[39m\u001b[38;5;130;01m\\n\u001b[39;00m\u001b[38;5;124m\"\u001b[39m,temp)\n",
      "\u001b[1;31mIndexError\u001b[0m: index 4 is out of bounds for axis 1 with size 4"
     ]
    }
   ],
   "source": [
    "temp = arr[[0,1,2,3],[3,2,4,5]]\n",
    "print(\"\\n Elements at indices (0,3),(1,2),(2,4),\"\"(3,5):\\n\",temp)"
   ]
  },
  {
   "cell_type": "code",
   "execution_count": 5,
   "id": "bac7ee4a",
   "metadata": {},
   "outputs": [
    {
     "name": "stdout",
     "output_type": "stream",
     "text": [
      "\n",
      " Elements at indices (0,3),(1,2),(2,4),(3,5):\n",
      " [3.  6.  6.9 9. ]\n"
     ]
    }
   ],
   "source": [
    "temp = arr[[0,1,2,3],[3,2,1,0]]\n",
    "print(\"\\n Elements at indices (0,3),(1,2),(2,4),\"\"(3,5):\\n\",temp)"
   ]
  },
  {
   "cell_type": "code",
   "execution_count": 6,
   "id": "70155ffd",
   "metadata": {},
   "outputs": [
    {
     "name": "stdout",
     "output_type": "stream",
     "text": [
      "\n",
      "Elements greater than 2:\n",
      " [  3.    4.    5.    6.    7.   11.7   6.9  65.    8.    9.   10.   11.\n",
      " 108. ]\n"
     ]
    }
   ],
   "source": [
    "cond = arr>2\n",
    "temp = arr[cond]\n",
    "print(\"\\nElements greater than 2:\\n\",temp)"
   ]
  },
  {
   "cell_type": "code",
   "execution_count": 7,
   "id": "b2b47d79",
   "metadata": {},
   "outputs": [
    {
     "name": "stdout",
     "output_type": "stream",
     "text": [
      "\n",
      " Original Array: [1 2 3 4 5 6 7]\n",
      "\n",
      " Returns every other elements in the array:arr[::4]: [1 5]\n"
     ]
    }
   ],
   "source": [
    "arr = np.array([1,2,3,4,5,6,7])\n",
    "print(\"\\n Original Array:\",arr)\n",
    "print(\"\\n Returns every other elements in the array:arr[::4]:\",arr[::4])\n"
   ]
  },
  {
   "cell_type": "code",
   "execution_count": 8,
   "id": "dc5795e1",
   "metadata": {},
   "outputs": [
    {
     "name": "stdout",
     "output_type": "stream",
     "text": [
      "\n",
      " Original arrays:\n",
      " [1 2 3 4] [5 6 7 8]\n",
      "\n",
      "Joined arrays:\n",
      " [1 2 3 4 5 6 7 8]\n"
     ]
    }
   ],
   "source": [
    "arr1 = np.array([1,2,3,4])\n",
    "arr2 = np.array([5,6,7,8])\n",
    "arr = np.concatenate((arr1,arr2))\n",
    "print(\"\\n Original arrays:\\n\",arr1,arr2)\n",
    "print(\"\\nJoined arrays:\\n\",arr)"
   ]
  },
  {
   "cell_type": "code",
   "execution_count": 9,
   "id": "a3951a22",
   "metadata": {},
   "outputs": [
    {
     "name": "stdout",
     "output_type": "stream",
     "text": [
      "\n",
      "Horizontal Joining:\n",
      " [1 2 3 4 5 6 7 8]\n"
     ]
    }
   ],
   "source": [
    "arr = np.hstack((arr1,arr2))\n",
    "print(\"\\nHorizontal Joining:\\n\",arr)"
   ]
  },
  {
   "cell_type": "code",
   "execution_count": 10,
   "id": "5100f778",
   "metadata": {},
   "outputs": [
    {
     "name": "stdout",
     "output_type": "stream",
     "text": [
      "\n",
      " Vertical joining:\n",
      " [[1 2 3 4]\n",
      " [5 6 7 8]]\n"
     ]
    }
   ],
   "source": [
    "arr = np.vstack((arr1,arr2))\n",
    "print(\"\\n Vertical joining:\\n\",arr)"
   ]
  },
  {
   "cell_type": "code",
   "execution_count": 11,
   "id": "82847c78",
   "metadata": {},
   "outputs": [
    {
     "name": "stdout",
     "output_type": "stream",
     "text": [
      "\n",
      "Depth joining:\n",
      " [[[1 5]\n",
      "  [2 6]\n",
      "  [3 7]\n",
      "  [4 8]]]\n"
     ]
    }
   ],
   "source": [
    "arr = np.dstack((arr1,arr2))\n",
    "print(\"\\nDepth joining:\\n\",arr)"
   ]
  },
  {
   "cell_type": "code",
   "execution_count": 12,
   "id": "a7a70c78",
   "metadata": {},
   "outputs": [
    {
     "name": "stdout",
     "output_type": "stream",
     "text": [
      "\n",
      "Original array:\n",
      " [1 2 3 4 5 6]\n",
      "\n",
      "Splitted array:\n",
      " [array([1, 2]), array([3, 4]), array([5, 6])]\n"
     ]
    }
   ],
   "source": [
    "arr = np.array([1,2,3,4,5,6])\n",
    "newarr = np.array_split(arr,3)\n",
    "print(\"\\nOriginal array:\\n\",arr)\n",
    "print(\"\\nSplitted array:\\n\",newarr)"
   ]
  },
  {
   "cell_type": "code",
   "execution_count": null,
   "id": "ae5abd54",
   "metadata": {},
   "outputs": [],
   "source": []
  }
 ],
 "metadata": {
  "kernelspec": {
   "display_name": "Python 3 (ipykernel)",
   "language": "python",
   "name": "python3"
  },
  "language_info": {
   "codemirror_mode": {
    "name": "ipython",
    "version": 3
   },
   "file_extension": ".py",
   "mimetype": "text/x-python",
   "name": "python",
   "nbconvert_exporter": "python",
   "pygments_lexer": "ipython3",
   "version": "3.9.12"
  }
 },
 "nbformat": 4,
 "nbformat_minor": 5
}
