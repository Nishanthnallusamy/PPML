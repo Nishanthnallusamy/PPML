{
 "cells": [
  {
   "cell_type": "code",
   "execution_count": 1,
   "id": "b07133b8",
   "metadata": {},
   "outputs": [
    {
     "name": "stdout",
     "output_type": "stream",
     "text": [
      "Array created using passed list:\n",
      " [1 2 3 4]\n"
     ]
    }
   ],
   "source": [
    "import numpy as np\n",
    "a = np.array([1,2,3,4])\n",
    "print(\"Array created using passed list:\\n\",a)"
   ]
  },
  {
   "cell_type": "code",
   "execution_count": 2,
   "id": "ee0cf3f5",
   "metadata": {},
   "outputs": [
    {
     "name": "stdout",
     "output_type": "stream",
     "text": [
      "\n",
      " An array initialized with all zeros:\n",
      " [[0. 0. 0. 0. 0. 0.]\n",
      " [0. 0. 0. 0. 0. 0.]\n",
      " [0. 0. 0. 0. 0. 0.]\n",
      " [0. 0. 0. 0. 0. 0.]]\n"
     ]
    }
   ],
   "source": [
    "b = np.zeros((4,6))\n",
    "print(\"\\n An array initialized with all zeros:\\n\",b)"
   ]
  },
  {
   "cell_type": "code",
   "execution_count": 3,
   "id": "54b91ead",
   "metadata": {},
   "outputs": [
    {
     "name": "stdout",
     "output_type": "stream",
     "text": [
      "\n",
      " An array initialized with all 11s\n",
      " [[11 11 11]]\n"
     ]
    }
   ],
   "source": [
    "c = np.full((1,3),11)\n",
    "print(\"\\n An array initialized with all 11s\\n\",c)"
   ]
  },
  {
   "cell_type": "code",
   "execution_count": 4,
   "id": "f6996c55",
   "metadata": {},
   "outputs": [
    {
     "name": "stdout",
     "output_type": "stream",
     "text": [
      "\n",
      " A random array:\n",
      " [[0.65786804 0.96141137]\n",
      " [0.78136903 0.73679626]]\n"
     ]
    }
   ],
   "source": [
    "d = np.random.random((2,2))\n",
    "print(\"\\n A random array:\\n\",d)"
   ]
  },
  {
   "cell_type": "code",
   "execution_count": 5,
   "id": "6f50b47d",
   "metadata": {},
   "outputs": [
    {
     "name": "stdout",
     "output_type": "stream",
     "text": [
      "\n",
      " A sequential array with steps of 5:\n",
      " [ 0  5 10 15 20 25]\n"
     ]
    }
   ],
   "source": [
    "e = np.arange(0,30,5)\n",
    "print(\"\\n A sequential array with steps of 5:\\n\",e)"
   ]
  },
  {
   "cell_type": "code",
   "execution_count": 6,
   "id": "a22a74bc",
   "metadata": {},
   "outputs": [
    {
     "name": "stdout",
     "output_type": "stream",
     "text": [
      "\n",
      "Original array:\n",
      " [[ 1  2  3  4]\n",
      " [ 5  6  7  8]\n",
      " [ 9 10 11 12]]\n",
      "Reshaped array[4,3]:\n",
      " [[ 1  2  3]\n",
      " [ 4  5  6]\n",
      " [ 7  8  9]\n",
      " [10 11 12]]\n"
     ]
    }
   ],
   "source": [
    "arr = np.array([[1,2,3,4],[5,6,7,8],[9,10,11,12]])\n",
    "newarr=arr.reshape(4,3)\n",
    "print(\"\\nOriginal array:\\n\",arr)\n",
    "print(\"Reshaped array[4,3]:\\n\",newarr)\n"
   ]
  },
  {
   "cell_type": "code",
   "execution_count": 7,
   "id": "8dbbc88c",
   "metadata": {},
   "outputs": [
    {
     "name": "stdout",
     "output_type": "stream",
     "text": [
      "\n",
      "Original array:\n",
      " [[ 1  2  3  4]\n",
      " [ 5  6  7  8]\n",
      " [ 9 10 11 12]]\n",
      "Flattened array:\n",
      " [ 1  2  3  4  5  6  7  8  9 10 11 12]\n"
     ]
    }
   ],
   "source": [
    "flarr = arr.flatten()\n",
    "print(\"\\nOriginal array:\\n\",arr)\n",
    "print(\"Flattened array:\\n\",flarr)"
   ]
  },
  {
   "cell_type": "code",
   "execution_count": 8,
   "id": "1bf8a04d",
   "metadata": {},
   "outputs": [
    {
     "name": "stdout",
     "output_type": "stream",
     "text": [
      "No of dimensions: 2\n"
     ]
    }
   ],
   "source": [
    "print(\"No of dimensions:\",arr.ndim)"
   ]
  },
  {
   "cell_type": "code",
   "execution_count": 9,
   "id": "5c23552b",
   "metadata": {},
   "outputs": [
    {
     "name": "stdout",
     "output_type": "stream",
     "text": [
      "Shape of array: (3, 4)\n",
      "\n",
      "Array stores elements of type: int32\n"
     ]
    }
   ],
   "source": [
    "print(\"Shape of array:\",arr.shape)\n",
    "print(\"\\nArray stores elements of type:\",arr.dtype)\n"
   ]
  },
  {
   "cell_type": "code",
   "execution_count": 10,
   "id": "d92c8bce",
   "metadata": {},
   "outputs": [
    {
     "name": "stdout",
     "output_type": "stream",
     "text": [
      "\n",
      "Converted array elements:\n",
      " [[ 1.  2.  3.  4.]\n",
      " [ 5.  6.  7.  8.]\n",
      " [ 9. 10. 11. 12.]]\n",
      "Converted array type: float32\n"
     ]
    }
   ],
   "source": [
    "newtype = arr.astype('f')\n",
    "print(\"\\nConverted array elements:\\n\",newtype)\n",
    "print(\"Converted array type:\",newtype.dtype)\n"
   ]
  },
  {
   "cell_type": "code",
   "execution_count": null,
   "id": "1573781e",
   "metadata": {},
   "outputs": [],
   "source": []
  }
 ],
 "metadata": {
  "kernelspec": {
   "display_name": "Python 3 (ipykernel)",
   "language": "python",
   "name": "python3"
  },
  "language_info": {
   "codemirror_mode": {
    "name": "ipython",
    "version": 3
   },
   "file_extension": ".py",
   "mimetype": "text/x-python",
   "name": "python",
   "nbconvert_exporter": "python",
   "pygments_lexer": "ipython3",
   "version": "3.9.12"
  }
 },
 "nbformat": 4,
 "nbformat_minor": 5
}
